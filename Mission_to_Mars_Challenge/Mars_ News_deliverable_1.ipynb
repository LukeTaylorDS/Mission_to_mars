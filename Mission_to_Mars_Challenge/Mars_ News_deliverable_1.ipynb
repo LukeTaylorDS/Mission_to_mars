{
 "cells": [
  {
   "cell_type": "markdown",
   "metadata": {
    "tags": [
     "parameters"
    ]
   },
   "source": [
    "# Module 12 Challenge\n",
    "## Deliverable 1: Scrape Titles and Preview Text from Mars News"
   ]
  },
  {
   "cell_type": "code",
   "execution_count": 1,
   "metadata": {},
   "outputs": [],
   "source": [
    "# Import Splinter and BeautifulSoup\n",
    "from splinter import Browser\n",
    "from bs4 import BeautifulSoup as soup\n",
    "from webdriver_manager.chrome import ChromeDriverManager\n"
   ]
  },
  {
   "cell_type": "code",
   "execution_count": 2,
   "metadata": {
    "scrolled": true
   },
   "outputs": [
    {
     "name": "stderr",
     "output_type": "stream",
     "text": [
      "[WDM] - Downloading: 100%|██████████| 6.79M/6.79M [00:00<00:00, 22.6MB/s]\n"
     ]
    }
   ],
   "source": [
    "executable_path = {'executable_path': ChromeDriverManager().install()}\n",
    "browser = Browser('chrome', **executable_path, headless=False)"
   ]
  },
  {
   "cell_type": "code",
   "execution_count": 3,
   "metadata": {},
   "outputs": [],
   "source": [
    "# Visit the Mars NASA news site: https://redplanetscience.com\n",
    "url = 'https://redplanetscience.com'\n",
    "browser.visit(url)"
   ]
  },
  {
   "cell_type": "code",
   "execution_count": 4,
   "metadata": {},
   "outputs": [],
   "source": [
    "# Create a Beautiful Soup object\n",
    "html = browser.html\n",
    "mars_news_soup = soup(html, 'html.parser')"
   ]
  },
  {
   "cell_type": "code",
   "execution_count": 5,
   "metadata": {},
   "outputs": [
    {
     "name": "stdout",
     "output_type": "stream",
     "text": [
      "['Join NASA for the Launch of the Mars 2020 Perseverance Rover', 'NASA Moves Forward With Campaign to Return Mars Samples to Earth', \"NASA's MAVEN Observes Martian Night Sky Pulsing in Ultraviolet Light\", \"NASA's Perseverance Rover Bringing 3D-Printed Metal Parts to Mars\", \"NASA's Curiosity Keeps Rolling As Team Operates Rover From Home\", 'NASA, ULA Launch Mars 2020 Perseverance Rover Mission to Red Planet', \"Alabama High School Student Names NASA's Mars Helicopter\", \"Air Deliveries Bring NASA's Perseverance Mars Rover Closer to Launch\", 'NASA to Reveal Name of Its Next Mars Rover', 'NASA Perseverance Mars Rover Scientists Train in the Nevada Desert', \"NASA's Mars Rover Drivers Need Your Help\", \"How NASA's Mars Helicopter Will Reach the Red Planet's Surface\", \"NASA's New Mars Rover Will Use X-Rays to Hunt Fossils\", 'Mars 2020 Stands on Its Own Six Wheels', \"NASA Engineers Checking InSight's Weather Sensors\"]\n"
     ]
    }
   ],
   "source": [
    "# Extract all the text elements\n",
    "title = mars_news_soup.find_all('div', class_='content_title')\n",
    "\n",
    "list_of_titles = []\n",
    "for title in title:\n",
    "    list_of_titles.append(title.text)\n",
    "\n",
    "print(list_of_titles)\n",
    "\n",
    "news_summary = mars_news_soup.find_all('div', class_='article_teaser_body')\n",
    "\n",
    "list_of_news_summaries = []\n",
    "for sum in news_summary:\n",
    "    list_of_news_summaries.append(sum.text)\n",
    "\n",
    "# print(list_of_news_summaries) "
   ]
  },
  {
   "cell_type": "code",
   "execution_count": 6,
   "metadata": {},
   "outputs": [],
   "source": [
    "# Create an empty list to store the dictionaries\n",
    "Mars_news_stories = []\n",
    "# print(len(list_of_titles),len(list_of_news_summaries))"
   ]
  },
  {
   "cell_type": "code",
   "execution_count": 7,
   "metadata": {},
   "outputs": [
    {
     "name": "stdout",
     "output_type": "stream",
     "text": [
      "object  --14  [{'title': 'Join NASA for the Launch of the Mars 2020 Perseverance Rover', 'preview': 'No matter where you live, choose from a menu of activities to join NASA as we \"Countdown to Mars\" and launch the Perseverance rover to the Red Planet.'}, {'title': 'NASA Moves Forward With Campaign to Return Mars Samples to Earth', 'preview': 'During this next phase, the program will mature critical technologies and make critical design decisions as well as assess industry partnerships.'}, {'title': \"NASA's MAVEN Observes Martian Night Sky Pulsing in Ultraviolet Light\", 'preview': 'Vast areas of the Martian night sky pulse in ultraviolet light, according to images from NASA’s MAVEN spacecraft. The results are being used to illuminate complex circulation patterns in the Martian atmosphere.'}, {'title': \"NASA's Perseverance Rover Bringing 3D-Printed Metal Parts to Mars\", 'preview': \"For hobbyists and makers, 3D printing expands creative possibilities; for specialized engineers, it's also key to next-generation spacecraft design.\"}, {'title': \"NASA's Curiosity Keeps Rolling As Team Operates Rover From Home\", 'preview': 'The team has learned to meet new challenges as they work remotely on the Mars mission.'}, {'title': 'NASA, ULA Launch Mars 2020 Perseverance Rover Mission to Red Planet', 'preview': \"The agency's Mars 2020 mission is on its way. It will land at Jezero Crater in about seven months, on Feb. 18, 2021. \"}, {'title': \"Alabama High School Student Names NASA's Mars Helicopter\", 'preview': \"Vaneeza Rupani's essay was chosen as the name for the small spacecraft, which will mark NASA's first attempt at powered flight on another planet.\"}, {'title': \"Air Deliveries Bring NASA's Perseverance Mars Rover Closer to Launch\", 'preview': \"A NASA Wallops Flight Facility cargo plane transported more than two tons of equipment — including the rover's sample collection tubes — to Florida for this summer's liftoff.\"}, {'title': 'NASA to Reveal Name of Its Next Mars Rover', 'preview': \"After a months-long contest among students to name NASA's newest Mars rover, the agency will reveal the winning name — and the winning student — this Thursday. \"}, {'title': 'NASA Perseverance Mars Rover Scientists Train in the Nevada Desert', 'preview': \"Team members searched for signs of ancient microscopic life there, just as NASA's latest rover will on the Red Planet next year.\"}, {'title': \"NASA's Mars Rover Drivers Need Your Help\", 'preview': 'Using an online tool to label Martian terrain types, you can train an artificial intelligence algorithm that could improve the way engineers guide the Curiosity rover.'}, {'title': \"How NASA's Mars Helicopter Will Reach the Red Planet's Surface\", 'preview': 'The small craft will seek to prove that powered, controlled flight is possible on another planet. But just getting it onto the surface of Mars will take a whole lot of ingenuity.'}, {'title': \"NASA's New Mars Rover Will Use X-Rays to Hunt Fossils\", 'preview': \"PIXL, an instrument on the end of the Perseverance rover's arm, will search for chemical fingerprints left by ancient microbes.\"}, {'title': 'Mars 2020 Stands on Its Own Six Wheels', 'preview': \"In time-lapse video, taken at JPL, captures the first time NASA's Mars 2020 rover carries its full weight on its legs and wheels.\"}, {'title': \"NASA Engineers Checking InSight's Weather Sensors\", 'preview': 'An electronics issue is suspected to be preventing the sensors from sharing their data about Mars weather with the spacecraft.'}]\n"
     ]
    }
   ],
   "source": [
    "# Loop through the text elements\n",
    "# Extract the title and preview text from the elements\n",
    "# Store each title and preview pair in a dictionary\n",
    "# Add the dictionary to the list\n",
    "\n",
    "for index in range(len(list_of_news_summaries)):\n",
    "    titles_and_summaries={}\n",
    "    titles_and_summaries['title']=list_of_titles[index]\n",
    "    titles_and_summaries['preview']=list_of_news_summaries[index]\n",
    "    titles_and_summaries\n",
    "    Mars_news_stories.append(titles_and_summaries)\n",
    "print(f'object  --{index}  {Mars_news_stories}')\n"
   ]
  },
  {
   "cell_type": "code",
   "execution_count": 8,
   "metadata": {},
   "outputs": [
    {
     "name": "stdout",
     "output_type": "stream",
     "text": [
      "[{'title': 'Join NASA for the Launch of the Mars 2020 Perseverance Rover', 'preview': 'No matter where you live, choose from a menu of activities to join NASA as we \"Countdown to Mars\" and launch the Perseverance rover to the Red Planet.'}, {'title': 'NASA Moves Forward With Campaign to Return Mars Samples to Earth', 'preview': 'During this next phase, the program will mature critical technologies and make critical design decisions as well as assess industry partnerships.'}, {'title': \"NASA's MAVEN Observes Martian Night Sky Pulsing in Ultraviolet Light\", 'preview': 'Vast areas of the Martian night sky pulse in ultraviolet light, according to images from NASA’s MAVEN spacecraft. The results are being used to illuminate complex circulation patterns in the Martian atmosphere.'}, {'title': \"NASA's Perseverance Rover Bringing 3D-Printed Metal Parts to Mars\", 'preview': \"For hobbyists and makers, 3D printing expands creative possibilities; for specialized engineers, it's also key to next-generation spacecraft design.\"}, {'title': \"NASA's Curiosity Keeps Rolling As Team Operates Rover From Home\", 'preview': 'The team has learned to meet new challenges as they work remotely on the Mars mission.'}, {'title': 'NASA, ULA Launch Mars 2020 Perseverance Rover Mission to Red Planet', 'preview': \"The agency's Mars 2020 mission is on its way. It will land at Jezero Crater in about seven months, on Feb. 18, 2021. \"}, {'title': \"Alabama High School Student Names NASA's Mars Helicopter\", 'preview': \"Vaneeza Rupani's essay was chosen as the name for the small spacecraft, which will mark NASA's first attempt at powered flight on another planet.\"}, {'title': \"Air Deliveries Bring NASA's Perseverance Mars Rover Closer to Launch\", 'preview': \"A NASA Wallops Flight Facility cargo plane transported more than two tons of equipment — including the rover's sample collection tubes — to Florida for this summer's liftoff.\"}, {'title': 'NASA to Reveal Name of Its Next Mars Rover', 'preview': \"After a months-long contest among students to name NASA's newest Mars rover, the agency will reveal the winning name — and the winning student — this Thursday. \"}, {'title': 'NASA Perseverance Mars Rover Scientists Train in the Nevada Desert', 'preview': \"Team members searched for signs of ancient microscopic life there, just as NASA's latest rover will on the Red Planet next year.\"}, {'title': \"NASA's Mars Rover Drivers Need Your Help\", 'preview': 'Using an online tool to label Martian terrain types, you can train an artificial intelligence algorithm that could improve the way engineers guide the Curiosity rover.'}, {'title': \"How NASA's Mars Helicopter Will Reach the Red Planet's Surface\", 'preview': 'The small craft will seek to prove that powered, controlled flight is possible on another planet. But just getting it onto the surface of Mars will take a whole lot of ingenuity.'}, {'title': \"NASA's New Mars Rover Will Use X-Rays to Hunt Fossils\", 'preview': \"PIXL, an instrument on the end of the Perseverance rover's arm, will search for chemical fingerprints left by ancient microbes.\"}, {'title': 'Mars 2020 Stands on Its Own Six Wheels', 'preview': \"In time-lapse video, taken at JPL, captures the first time NASA's Mars 2020 rover carries its full weight on its legs and wheels.\"}, {'title': \"NASA Engineers Checking InSight's Weather Sensors\", 'preview': 'An electronics issue is suspected to be preventing the sensors from sharing their data about Mars weather with the spacecraft.'}]\n"
     ]
    }
   ],
   "source": [
    "# Print the list to confirm success\n",
    "print(Mars_news_stories)"
   ]
  },
  {
   "cell_type": "code",
   "execution_count": 9,
   "metadata": {},
   "outputs": [],
   "source": [
    "browser.quit()"
   ]
  },
  {
   "cell_type": "code",
   "execution_count": 15,
   "metadata": {},
   "outputs": [
    {
     "name": "stdout",
     "output_type": "stream",
     "text": [
      "[{\"title\": \"Join NASA for the Launch of the Mars 2020 Perseverance Rover\", \"preview\": \"No matter where you live, choose from a menu of activities to join NASA as we \\\"Countdown to Mars\\\" and launch the Perseverance rover to the Red Planet.\"}, {\"title\": \"NASA Moves Forward With Campaign to Return Mars Samples to Earth\", \"preview\": \"During this next phase, the program will mature critical technologies and make critical design decisions as well as assess industry partnerships.\"}, {\"title\": \"NASA's MAVEN Observes Martian Night Sky Pulsing in Ultraviolet Light\", \"preview\": \"Vast areas of the Martian night sky pulse in ultraviolet light, according to images from NASA\\u2019s MAVEN spacecraft. The results are being used to illuminate complex circulation patterns in the Martian atmosphere.\"}, {\"title\": \"NASA's Perseverance Rover Bringing 3D-Printed Metal Parts to Mars\", \"preview\": \"For hobbyists and makers, 3D printing expands creative possibilities; for specialized engineers, it's also key to next-generation spacecraft design.\"}, {\"title\": \"NASA's Curiosity Keeps Rolling As Team Operates Rover From Home\", \"preview\": \"The team has learned to meet new challenges as they work remotely on the Mars mission.\"}, {\"title\": \"NASA, ULA Launch Mars 2020 Perseverance Rover Mission to Red Planet\", \"preview\": \"The agency's Mars 2020 mission is on its way. It will land at Jezero Crater in about seven months, on Feb. 18, 2021. \"}, {\"title\": \"Alabama High School Student Names NASA's Mars Helicopter\", \"preview\": \"Vaneeza Rupani's essay was chosen as the name for the small spacecraft, which will mark NASA's first attempt at powered flight on another planet.\"}, {\"title\": \"Air Deliveries Bring NASA's Perseverance Mars Rover Closer to Launch\", \"preview\": \"A NASA Wallops Flight Facility cargo plane transported more than two tons of equipment \\u2014 including the rover's sample collection tubes \\u2014 to Florida for this summer's liftoff.\"}, {\"title\": \"NASA to Reveal Name of Its Next Mars Rover\", \"preview\": \"After a months-long contest among students to name NASA's newest Mars rover, the agency will reveal the winning name \\u2014 and the winning student \\u2014 this Thursday. \"}, {\"title\": \"NASA Perseverance Mars Rover Scientists Train in the Nevada Desert\", \"preview\": \"Team members searched for signs of ancient microscopic life there, just as NASA's latest rover will on the Red Planet next year.\"}, {\"title\": \"NASA's Mars Rover Drivers Need Your Help\", \"preview\": \"Using an online tool to label Martian terrain types, you can train an artificial intelligence algorithm that could improve the way engineers guide the Curiosity rover.\"}, {\"title\": \"How NASA's Mars Helicopter Will Reach the Red Planet's Surface\", \"preview\": \"The small craft will seek to prove that powered, controlled flight is possible on another planet. But just getting it onto the surface of Mars will take a whole lot of ingenuity.\"}, {\"title\": \"NASA's New Mars Rover Will Use X-Rays to Hunt Fossils\", \"preview\": \"PIXL, an instrument on the end of the Perseverance rover's arm, will search for chemical fingerprints left by ancient microbes.\"}, {\"title\": \"Mars 2020 Stands on Its Own Six Wheels\", \"preview\": \"In time-lapse video, taken at JPL, captures the first time NASA's Mars 2020 rover carries its full weight on its legs and wheels.\"}, {\"title\": \"NASA Engineers Checking InSight's Weather Sensors\", \"preview\": \"An electronics issue is suspected to be preventing the sensors from sharing their data about Mars weather with the spacecraft.\"}]\n"
     ]
    }
   ],
   "source": [
    "# Export data to JSON\n",
    "import json\n",
    "import pandas as pd\n",
    "\n",
    "Mars_news_stories_json = json.dumps(Mars_news_stories)\n",
    "print(Mars_news_stories_json)\n",
    "\n",
    "df=pd.read_json(Mars_news_stories_json)\n",
    "df.to_csv('analysis/Mars_news.csv',index=False)\n"
   ]
  }
 ],
 "metadata": {
  "kernelspec": {
   "display_name": "Python_data_real",
   "language": "python",
   "name": "python3"
  },
  "language_info": {
   "codemirror_mode": {
    "name": "ipython",
    "version": 3
   },
   "file_extension": ".py",
   "mimetype": "text/x-python",
   "name": "python",
   "nbconvert_exporter": "python",
   "pygments_lexer": "ipython3",
   "version": "3.9.16"
  },
  "vscode": {
   "interpreter": {
    "hash": "ec471374ecd0cb83f3ef3790c2f5e01472b3976c205c1643a50fdb91c99c37fb"
   }
  }
 },
 "nbformat": 4,
 "nbformat_minor": 4
}
