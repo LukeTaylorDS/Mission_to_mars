{
 "cells": [
  {
   "cell_type": "markdown",
   "metadata": {
    "tags": [
     "parameters"
    ]
   },
   "source": [
    "# Module 12 Challenge\n",
    "## Deliverable 1: Scrape Titles and Preview Text from Mars News"
   ]
  },
  {
   "cell_type": "code",
   "execution_count": 1,
   "metadata": {},
   "outputs": [],
   "source": [
    "# Import Splinter and BeautifulSoup\n",
    "from splinter import Browser\n",
    "from bs4 import BeautifulSoup as soup\n",
    "from webdriver_manager.chrome import ChromeDriverManager"
   ]
  },
  {
   "cell_type": "code",
   "execution_count": 2,
   "metadata": {
    "scrolled": true
   },
   "outputs": [],
   "source": [
    "executable_path = {'executable_path': ChromeDriverManager().install()}\n",
    "browser = Browser('chrome', **executable_path, headless=False)"
   ]
  },
  {
   "cell_type": "code",
   "execution_count": 3,
   "metadata": {},
   "outputs": [],
   "source": [
    "# Visit the Mars NASA news site: https://redplanetscience.com\n",
    "url = 'https://redplanetscience.com'\n",
    "browser.visit(url)"
   ]
  },
  {
   "cell_type": "code",
   "execution_count": 4,
   "metadata": {},
   "outputs": [],
   "source": [
    "# Create a Beautiful Soup object\n",
    "html = browser.html\n",
    "mars_news_soup = soup(html, 'html.parser')"
   ]
  },
  {
   "cell_type": "code",
   "execution_count": 5,
   "metadata": {},
   "outputs": [
    {
     "name": "stdout",
     "output_type": "stream",
     "text": [
      "[\"NASA's Mars Helicopter Attached to Mars 2020 Rover \", \"NASA Readies Perseverance Mars Rover's Earthly Twin \", \"NASA Engineers Checking InSight's Weather Sensors\", \"What's Mars Solar Conjunction, and Why Does It Matter?\", \"A Year of Surprising Science From NASA's InSight Mars Mission\", \"NASA's Perseverance Rover Goes Through Trials by Fire, Ice, Light and Sound\", \"The Launch Is Approaching for NASA's Next Mars Rover, Perseverance\", \"Alabama High School Student Names NASA's Mars Helicopter\", \"HiRISE Views NASA's InSight and Curiosity on Mars\", \"NASA's Curiosity Mars Rover Snaps Its Highest-Resolution Panorama Yet\", \"NASA's Perseverance Rover Will Peer Beneath Mars' Surface \", \"Robotic Toolkit Added to NASA's Mars 2020 Rover\", 'With Mars Methane Mystery Unsolved, Curiosity Serves Scientists a New One: Oxygen', \"NASA's Perseverance Rover Attached to Atlas V Rocket\", 'NASA to Reveal Name of Its Next Mars Rover']\n"
     ]
    }
   ],
   "source": [
    "# Extract all the text elements\n",
    "title = mars_news_soup.find_all('div', class_='content_title')\n",
    "\n",
    "list_of_titles = []\n",
    "for title in title:\n",
    "    list_of_titles.append(title.text)\n",
    "\n",
    "print(list_of_titles)\n",
    "\n",
    "news_summary = mars_news_soup.find_all('div', class_='article_teaser_body')\n",
    "\n",
    "list_of_news_summaries = []\n",
    "for sum in news_summary:\n",
    "    list_of_news_summaries.append(sum.text)\n",
    "\n",
    "# print(list_of_news_summaries) "
   ]
  },
  {
   "cell_type": "code",
   "execution_count": 6,
   "metadata": {},
   "outputs": [],
   "source": [
    "# Create an empty list to store the dictionaries\n",
    "Mars_news_stories = []\n",
    "# print(len(list_of_titles),len(list_of_news_summaries))"
   ]
  },
  {
   "cell_type": "code",
   "execution_count": 7,
   "metadata": {},
   "outputs": [
    {
     "name": "stdout",
     "output_type": "stream",
     "text": [
      "object  --14  [{'title': \"NASA's Mars Helicopter Attached to Mars 2020 Rover \", 'preview': 'The helicopter will be first aircraft to perform flight tests on another planet.'}, {'title': \"NASA Readies Perseverance Mars Rover's Earthly Twin \", 'preview': \"Did you know NASA's next Mars rover has a nearly identical sibling on Earth for testing? Even better, it's about to roll for the first time through a replica Martian landscape.\"}, {'title': \"NASA Engineers Checking InSight's Weather Sensors\", 'preview': 'An electronics issue is suspected to be preventing the sensors from sharing their data about Mars weather with the spacecraft.'}, {'title': \"What's Mars Solar Conjunction, and Why Does It Matter?\", 'preview': 'NASA spacecraft at Mars are going to be on their own for a few weeks when the Sun comes between Mars and Earth, interrupting communications.'}, {'title': \"A Year of Surprising Science From NASA's InSight Mars Mission\", 'preview': \"A batch of new papers summarizes the lander's findings above and below the surface of the Red Planet.\"}, {'title': \"NASA's Perseverance Rover Goes Through Trials by Fire, Ice, Light and Sound\", 'preview': \"The agency's new Mars rover is put through a series of tests in vacuum chambers, acoustic chambers and more to get ready for the Red Planet.\"}, {'title': \"The Launch Is Approaching for NASA's Next Mars Rover, Perseverance\", 'preview': \"The Red Planet's surface has been visited by eight NASA spacecraft. The ninth will be the first that includes a roundtrip ticket in its flight plan. \"}, {'title': \"Alabama High School Student Names NASA's Mars Helicopter\", 'preview': \"Vaneeza Rupani's essay was chosen as the name for the small spacecraft, which will mark NASA's first attempt at powered flight on another planet.\"}, {'title': \"HiRISE Views NASA's InSight and Curiosity on Mars\", 'preview': 'New images taken from space offer the clearest orbital glimpse yet of InSight as well as a view of Curiosity rolling along.'}, {'title': \"NASA's Curiosity Mars Rover Snaps Its Highest-Resolution Panorama Yet\", 'preview': 'To go along with the stunning 1.8-billion-pixel image, a new video offers a sweeping view of the Red Planet.'}, {'title': \"NASA's Perseverance Rover Will Peer Beneath Mars' Surface \", 'preview': \"The agency's newest rover will use the first ground-penetrating radar instrument on the Martian surface to help search for signs of past microbial life. \"}, {'title': \"Robotic Toolkit Added to NASA's Mars 2020 Rover\", 'preview': \"The bit carousel, which lies at the heart of the rover's Sample Caching System, is now aboard NASA's newest rover. \"}, {'title': 'With Mars Methane Mystery Unsolved, Curiosity Serves Scientists a New One: Oxygen', 'preview': 'For the first time in the history of space exploration, scientists have measured the seasonal changes in the gases that fill the air directly above the surface of Gale Crater on Mars. '}, {'title': \"NASA's Perseverance Rover Attached to Atlas V Rocket\", 'preview': 'Ready for its launch later in the month, the Mars-bound rover will touch terra firma no more.'}, {'title': 'NASA to Reveal Name of Its Next Mars Rover', 'preview': \"After a months-long contest among students to name NASA's newest Mars rover, the agency will reveal the winning name — and the winning student — this Thursday. \"}]\n"
     ]
    }
   ],
   "source": [
    "# Loop through the text elements\n",
    "# Extract the title and preview text from the elements\n",
    "# Store each title and preview pair in a dictionary\n",
    "# Add the dictionary to the list\n",
    "\n",
    "for index in range(len(list_of_news_summaries)):\n",
    "    titles_and_summaries={}\n",
    "    titles_and_summaries['title']=list_of_titles[index]\n",
    "    titles_and_summaries['preview']=list_of_news_summaries[index]\n",
    "    titles_and_summaries\n",
    "    Mars_news_stories.append(titles_and_summaries)\n",
    "print(f'object  --{index}  {Mars_news_stories}')\n"
   ]
  },
  {
   "cell_type": "code",
   "execution_count": 8,
   "metadata": {},
   "outputs": [
    {
     "name": "stdout",
     "output_type": "stream",
     "text": [
      "[{'title': \"NASA's Mars Helicopter Attached to Mars 2020 Rover \", 'preview': 'The helicopter will be first aircraft to perform flight tests on another planet.'}, {'title': \"NASA Readies Perseverance Mars Rover's Earthly Twin \", 'preview': \"Did you know NASA's next Mars rover has a nearly identical sibling on Earth for testing? Even better, it's about to roll for the first time through a replica Martian landscape.\"}, {'title': \"NASA Engineers Checking InSight's Weather Sensors\", 'preview': 'An electronics issue is suspected to be preventing the sensors from sharing their data about Mars weather with the spacecraft.'}, {'title': \"What's Mars Solar Conjunction, and Why Does It Matter?\", 'preview': 'NASA spacecraft at Mars are going to be on their own for a few weeks when the Sun comes between Mars and Earth, interrupting communications.'}, {'title': \"A Year of Surprising Science From NASA's InSight Mars Mission\", 'preview': \"A batch of new papers summarizes the lander's findings above and below the surface of the Red Planet.\"}, {'title': \"NASA's Perseverance Rover Goes Through Trials by Fire, Ice, Light and Sound\", 'preview': \"The agency's new Mars rover is put through a series of tests in vacuum chambers, acoustic chambers and more to get ready for the Red Planet.\"}, {'title': \"The Launch Is Approaching for NASA's Next Mars Rover, Perseverance\", 'preview': \"The Red Planet's surface has been visited by eight NASA spacecraft. The ninth will be the first that includes a roundtrip ticket in its flight plan. \"}, {'title': \"Alabama High School Student Names NASA's Mars Helicopter\", 'preview': \"Vaneeza Rupani's essay was chosen as the name for the small spacecraft, which will mark NASA's first attempt at powered flight on another planet.\"}, {'title': \"HiRISE Views NASA's InSight and Curiosity on Mars\", 'preview': 'New images taken from space offer the clearest orbital glimpse yet of InSight as well as a view of Curiosity rolling along.'}, {'title': \"NASA's Curiosity Mars Rover Snaps Its Highest-Resolution Panorama Yet\", 'preview': 'To go along with the stunning 1.8-billion-pixel image, a new video offers a sweeping view of the Red Planet.'}, {'title': \"NASA's Perseverance Rover Will Peer Beneath Mars' Surface \", 'preview': \"The agency's newest rover will use the first ground-penetrating radar instrument on the Martian surface to help search for signs of past microbial life. \"}, {'title': \"Robotic Toolkit Added to NASA's Mars 2020 Rover\", 'preview': \"The bit carousel, which lies at the heart of the rover's Sample Caching System, is now aboard NASA's newest rover. \"}, {'title': 'With Mars Methane Mystery Unsolved, Curiosity Serves Scientists a New One: Oxygen', 'preview': 'For the first time in the history of space exploration, scientists have measured the seasonal changes in the gases that fill the air directly above the surface of Gale Crater on Mars. '}, {'title': \"NASA's Perseverance Rover Attached to Atlas V Rocket\", 'preview': 'Ready for its launch later in the month, the Mars-bound rover will touch terra firma no more.'}, {'title': 'NASA to Reveal Name of Its Next Mars Rover', 'preview': \"After a months-long contest among students to name NASA's newest Mars rover, the agency will reveal the winning name — and the winning student — this Thursday. \"}]\n"
     ]
    }
   ],
   "source": [
    "# Print the list to confirm success\n",
    "print(Mars_news_stories)"
   ]
  },
  {
   "cell_type": "code",
   "execution_count": 9,
   "metadata": {},
   "outputs": [],
   "source": [
    "browser.quit()"
   ]
  },
  {
   "cell_type": "code",
   "execution_count": 10,
   "metadata": {},
   "outputs": [
    {
     "name": "stdout",
     "output_type": "stream",
     "text": [
      "[\n",
      "{\n",
      "\"title\": \"NASA's Mars Helicopter Attached to Mars 2020 Rover \",\n",
      "\"preview\": \"The helicopter will be first aircraft to perform flight tests on another planet.\"\n",
      "},\n",
      "{\n",
      "\"title\": \"NASA Readies Perseverance Mars Rover's Earthly Twin \",\n",
      "\"preview\": \"Did you know NASA's next Mars rover has a nearly identical sibling on Earth for testing? Even better, it's about to roll for the first time through a replica Martian landscape.\"\n",
      "},\n",
      "{\n",
      "\"title\": \"NASA Engineers Checking InSight's Weather Sensors\",\n",
      "\"preview\": \"An electronics issue is suspected to be preventing the sensors from sharing their data about Mars weather with the spacecraft.\"\n",
      "},\n",
      "{\n",
      "\"title\": \"What's Mars Solar Conjunction, and Why Does It Matter?\",\n",
      "\"preview\": \"NASA spacecraft at Mars are going to be on their own for a few weeks when the Sun comes between Mars and Earth, interrupting communications.\"\n",
      "},\n",
      "{\n",
      "\"title\": \"A Year of Surprising Science From NASA's InSight Mars Mission\",\n",
      "\"preview\": \"A batch of new papers summarizes the lander's findings above and below the surface of the Red Planet.\"\n",
      "},\n",
      "{\n",
      "\"title\": \"NASA's Perseverance Rover Goes Through Trials by Fire, Ice, Light and Sound\",\n",
      "\"preview\": \"The agency's new Mars rover is put through a series of tests in vacuum chambers, acoustic chambers and more to get ready for the Red Planet.\"\n",
      "},\n",
      "{\n",
      "\"title\": \"The Launch Is Approaching for NASA's Next Mars Rover, Perseverance\",\n",
      "\"preview\": \"The Red Planet's surface has been visited by eight NASA spacecraft. The ninth will be the first that includes a roundtrip ticket in its flight plan. \"\n",
      "},\n",
      "{\n",
      "\"title\": \"Alabama High School Student Names NASA's Mars Helicopter\",\n",
      "\"preview\": \"Vaneeza Rupani's essay was chosen as the name for the small spacecraft, which will mark NASA's first attempt at powered flight on another planet.\"\n",
      "},\n",
      "{\n",
      "\"title\": \"HiRISE Views NASA's InSight and Curiosity on Mars\",\n",
      "\"preview\": \"New images taken from space offer the clearest orbital glimpse yet of InSight as well as a view of Curiosity rolling along.\"\n",
      "},\n",
      "{\n",
      "\"title\": \"NASA's Curiosity Mars Rover Snaps Its Highest-Resolution Panorama Yet\",\n",
      "\"preview\": \"To go along with the stunning 1.8-billion-pixel image, a new video offers a sweeping view of the Red Planet.\"\n",
      "},\n",
      "{\n",
      "\"title\": \"NASA's Perseverance Rover Will Peer Beneath Mars' Surface \",\n",
      "\"preview\": \"The agency's newest rover will use the first ground-penetrating radar instrument on the Martian surface to help search for signs of past microbial life. \"\n",
      "},\n",
      "{\n",
      "\"title\": \"Robotic Toolkit Added to NASA's Mars 2020 Rover\",\n",
      "\"preview\": \"The bit carousel, which lies at the heart of the rover's Sample Caching System, is now aboard NASA's newest rover. \"\n",
      "},\n",
      "{\n",
      "\"title\": \"With Mars Methane Mystery Unsolved, Curiosity Serves Scientists a New One: Oxygen\",\n",
      "\"preview\": \"For the first time in the history of space exploration, scientists have measured the seasonal changes in the gases that fill the air directly above the surface of Gale Crater on Mars. \"\n",
      "},\n",
      "{\n",
      "\"title\": \"NASA's Perseverance Rover Attached to Atlas V Rocket\",\n",
      "\"preview\": \"Ready for its launch later in the month, the Mars-bound rover will touch terra firma no more.\"\n",
      "},\n",
      "{\n",
      "\"title\": \"NASA to Reveal Name of Its Next Mars Rover\",\n",
      "\"preview\": \"After a months-long contest among students to name NASA's newest Mars rover, the agency will reveal the winning name \\u2014 and the winning student \\u2014 this Thursday. \"\n",
      "}\n",
      "]\n"
     ]
    }
   ],
   "source": [
    "# Export data to JSON\n",
    "import json\n",
    "\n",
    "Mars_news_stories_json = json.dumps(Mars_news_stories, indent=0)\n",
    "print(Mars_news_stories_json)\n",
    "\n",
    "with open(\"analysis/Mars_news_stories_json.json\", 'w') as final:\n",
    "    json.dump(Mars_news_stories_json, final)\n"
   ]
  }
 ],
 "metadata": {
  "kernelspec": {
   "display_name": "Python_data_real",
   "language": "python",
   "name": "python3"
  },
  "language_info": {
   "codemirror_mode": {
    "name": "ipython",
    "version": 3
   },
   "file_extension": ".py",
   "mimetype": "text/x-python",
   "name": "python",
   "nbconvert_exporter": "python",
   "pygments_lexer": "ipython3",
   "version": "3.9.16"
  },
  "vscode": {
   "interpreter": {
    "hash": "ec471374ecd0cb83f3ef3790c2f5e01472b3976c205c1643a50fdb91c99c37fb"
   }
  }
 },
 "nbformat": 4,
 "nbformat_minor": 4
}
