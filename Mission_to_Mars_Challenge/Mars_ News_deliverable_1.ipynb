{
 "cells": [
  {
   "cell_type": "markdown",
   "metadata": {},
   "source": [
    "# Module 12 Challenge\n",
    "## Deliverable 1: Scrape Titles and Preview Text from Mars News"
   ]
  },
  {
   "cell_type": "code",
   "execution_count": 110,
   "metadata": {},
   "outputs": [],
   "source": [
    "# Import Splinter and BeautifulSoup\n",
    "from splinter import Browser\n",
    "from bs4 import BeautifulSoup as soup\n",
    "from webdriver_manager.chrome import ChromeDriverManager"
   ]
  },
  {
   "cell_type": "code",
   "execution_count": 111,
   "metadata": {
    "scrolled": true
   },
   "outputs": [],
   "source": [
    "executable_path = {'executable_path': ChromeDriverManager().install()}\n",
    "browser = Browser('chrome', **executable_path, headless=False)"
   ]
  },
  {
   "cell_type": "markdown",
   "metadata": {},
   "source": [
    "### Step 1: Visit the Website\n",
    "\n",
    "1. Use automated browsing to visit the [Mars NASA news site](https://redplanetscience.com). Inspect the page to identify which elements to scrape.\n",
    "\n",
    "      > **Hint** To identify which elements to scrape, you might want to inspect the page by using Chrome DevTools."
   ]
  },
  {
   "cell_type": "code",
   "execution_count": 112,
   "metadata": {},
   "outputs": [],
   "source": [
    "# Visit the Mars NASA news site: https://redplanetscience.com\n",
    "url = 'https://redplanetscience.com'\n",
    "browser.visit(url)"
   ]
  },
  {
   "cell_type": "markdown",
   "metadata": {},
   "source": [
    "### Step 2: Scrape the Website\n",
    "\n",
    "Create a Beautiful Soup object and use it to extract text elements from the website."
   ]
  },
  {
   "cell_type": "code",
   "execution_count": 113,
   "metadata": {},
   "outputs": [],
   "source": [
    "# Create a Beautiful Soup object\n",
    "html = browser.html\n",
    "mars_news_soup = soup(html, 'html.parser')"
   ]
  },
  {
   "cell_type": "code",
   "execution_count": 114,
   "metadata": {},
   "outputs": [],
   "source": [
    "# Extract all the text elements\n",
    "title = mars_news_soup.find_all('div', class_='content_title')\n",
    "\n",
    "list_of_titles = []\n",
    "for title in title:\n",
    "    list_of_titles.append(title.text)\n",
    "\n",
    "# print(list_of_titles)\n",
    "\n",
    "news_summary = mars_news_soup.find_all('div', class_='article_teaser_body')\n",
    "\n",
    "list_of_news_summaries = []\n",
    "for sum in news_summary:\n",
    "    list_of_news_summaries.append(sum.text)\n",
    "\n",
    "# print(list_of_news_summaries) "
   ]
  },
  {
   "cell_type": "markdown",
   "metadata": {},
   "source": [
    "### Step 3: Store the Results\n",
    "\n",
    "Extract the titles and preview text of the news articles that you scraped. Store the scraping results in Python data structures as follows:\n",
    "\n",
    "* Store each title-and-preview pair in a Python dictionary. And, give each dictionary two keys: `title` and `preview`. An example is the following:\n",
    "\n",
    "  ```python\n",
    "  {'title': \"Mars Rover Begins Mission!\", \n",
    "        'preview': \"NASA's Mars Rover begins a multiyear mission to collect data about the little-explored planet.\"}\n",
    "  ```\n",
    "\n",
    "* Store all the dictionaries in a Python list.\n",
    "\n",
    "* Print the list in your notebook."
   ]
  },
  {
   "cell_type": "code",
   "execution_count": 115,
   "metadata": {},
   "outputs": [],
   "source": [
    "# Create an empty list to store the dictionaries\n",
    "Mars_news_stories = [titles_and_summaries]"
   ]
  },
  {
   "cell_type": "code",
   "execution_count": 116,
   "metadata": {},
   "outputs": [
    {
     "name": "stdout",
     "output_type": "stream",
     "text": [
      "{\"All About the Laser (and Microphone) Atop Mars 2020, NASA's Next Rover\": 'SuperCam is a rock-vaporizing instrument that will help scientists hunt for Mars fossils.', \"A New Video Captures the Science of NASA's Perseverance Mars Rover\": 'With a targeted launch date of July 30, the next robotic scientist NASA is sending to the to the Red Planet has big ambitions.', 'NASA Mars Mission Connects With Bosnian and Herzegovinian Town': 'A letter from NASA was presented to the mayor of Jezero, Bosnia-Herzegovina, honoring the connection between the town and Jezero Crater, the Mars 2020 rover landing site.', \"3 Things We've Learned From NASA's Mars InSight \": 'Scientists are finding new mysteries since the geophysics mission landed two years ago.', \"NASA's Curiosity Mars Rover Snaps Its Highest-Resolution Panorama Yet\": 'To go along with the stunning 1.8-billion-pixel image, a new video offers a sweeping view of the Red Planet.', \"Curiosity Mars Rover's Summer Road Trip Has Begun\": 'After more than a year in the \"clay-bearing unit,\" Curiosity is making a mile-long journey around some deep sand so that it can explore higher up Mount Sharp.', 'NASA, ULA Launch Mars 2020 Perseverance Rover Mission to Red Planet': \"The agency's Mars 2020 mission is on its way. It will land at Jezero Crater in about seven months, on Feb. 18, 2021. \", \"A Year of Surprising Science From NASA's InSight Mars Mission\": \"A batch of new papers summarizes the lander's findings above and below the surface of the Red Planet.\", \"From JPL's Mailroom to Mars and Beyond\": 'Bill Allen has thrived as the mechanical systems design lead for three Mars rover missions, but he got his start as a teenager sorting letters for the NASA center.', \"How NASA's Perseverance Mars Team Adjusted to Work in the Time of Coronavirus \": 'Like much of the rest of the world, the Mars rover team is pushing forward with its mission-critical work while putting the health and safety of their colleagues and community first.', \"The Launch Is Approaching for NASA's Next Mars Rover, Perseverance\": \"The Red Planet's surface has been visited by eight NASA spacecraft. The ninth will be the first that includes a roundtrip ticket in its flight plan. \", 'New Selfie Shows Curiosity, the Mars Chemist': 'The NASA rover performed a special chemistry experiment at the location captured in its newest self-portrait.', 'Global Storms on Mars Launch Dust Towers Into the Sky': 'A Mars Dust Tower Stands Out Dust storms are common on Mars. But every decade or so, something unpredictable happens: a series of runaway storms break out, covering the entire planet in a dusty haze.', 'NASA to Hold Mars 2020 Perseverance Rover Launch Briefing': \"Learn more about the agency's next Red Planet mission during a live event on June 17.\", \"Q&A with the Student Who Named Ingenuity, NASA's Mars Helicopter\": 'As a longtime fan of space exploration, Vaneeza Rupani appreciates the creativity and collaboration involved with trying to fly on another planet.'}\n"
     ]
    }
   ],
   "source": [
    "# Loop through the text elements\n",
    "# Extract the title and preview text from the elements\n",
    "# Store each title and preview pair in a dictionary\n",
    "# Add the dictionary to the list\n",
    "titles_and_summaries = {}\n",
    "\n",
    "for key in list_of_titles:\n",
    "    for value in list_of_news_summaries:\n",
    "       titles_and_summaries[key] = value\n",
    "       list_of_news_summaries.remove(value)\n",
    "       break\n",
    "\n",
    "print(titles_and_summaries)\n",
    "        "
   ]
  },
  {
   "cell_type": "code",
   "execution_count": 117,
   "metadata": {},
   "outputs": [
    {
     "name": "stdout",
     "output_type": "stream",
     "text": [
      "[{'NASA Mars Mission Connects With Bosnian and Herzegovinian Town': 'A letter from NASA was presented to the mayor of Jezero, Bosnia-Herzegovina, honoring the connection between the town and Jezero Crater, the Mars 2020 rover landing site.', \"5 Hidden Gems Are Riding Aboard NASA's Perseverance Rover\": \"The symbols, mottos, and small objects added to the agency's newest Mars rover serve a variety of purposes, from functional to decorative.\", 'Mars 2020 Unwrapped and Ready for More Testing': \"In time-lapse video, bunny-suited engineers remove the inner layer of protective foil on NASA's Mars 2020 rover after it was relocated for testing.\", \"NASA's Perseverance Rover Is Midway to Mars \": \"Sometimes half measures can be a good thing – especially on a journey this long. The agency's latest rover only has about 146 million miles left to reach its destination.\", \"3 Things We've Learned From NASA's Mars InSight \": 'Scientists are finding new mysteries since the geophysics mission landed two years ago.', \"NASA's InSight 'Hears' Peculiar Sounds on Mars\": 'Listen to the marsquakes and other, less-expected sounds that the Mars lander has been detecting.', 'Mars Scientists Investigate Ancient Life in Australia': \"Teams with NASA's Mars 2020 and ESA's ExoMars practiced hunting for fossilized microbial life in the Australian Outback in preparation for their Red Planet missions. \", \"NASA's Mars 2020 Heads Into the Test Chamber\": 'In this time-lapse video taken at JPL, engineers move the Mars 2020 rover into a large vacuum chamber for testing in Mars-like environmental conditions.', \"How NASA's Perseverance Mars Team Adjusted to Work in the Time of Coronavirus \": 'Like much of the rest of the world, the Mars rover team is pushing forward with its mission-critical work while putting the health and safety of their colleagues and community first.', \"NASA's MAVEN Observes Martian Night Sky Pulsing in Ultraviolet Light\": 'Vast areas of the Martian night sky pulse in ultraviolet light, according to images from NASA’s MAVEN spacecraft. The results are being used to illuminate complex circulation patterns in the Martian atmosphere.', \"8 Martian Postcards to Celebrate Curiosity's Landing Anniversary\": 'The NASA rover touched down eight years ago, on Aug. 5, 2012, and will soon be joined by a second rover, Perseverance.', 'MOXIE Could Help Future Rockets Launch Off Mars': \"NASA's Perseverance rover carries a device to convert Martian air into oxygen that, if produced on a larger scale, could be used not just for breathing, but also for fuel.\", \"Robotic Toolkit Added to NASA's Mars 2020 Rover\": \"The bit carousel, which lies at the heart of the rover's Sample Caching System, is now aboard NASA's newest rover. \", \"NASA's Treasure Map for Water Ice on Mars\": 'A new study identifies frozen water just below the Martian surface, where astronauts could easily dig it up.', \"NASA's Perseverance Rover 100 Days Out\": \"Mark your calendars: The agency's latest rover has only about 8,640,000 seconds to go before it touches down on the Red Planet, becoming history's next Mars car.\"}]\n"
     ]
    }
   ],
   "source": [
    "# Print the list to confirm success\n",
    "print(Mars_news_stories)"
   ]
  },
  {
   "cell_type": "code",
   "execution_count": 118,
   "metadata": {},
   "outputs": [],
   "source": [
    "browser.quit()"
   ]
  },
  {
   "cell_type": "markdown",
   "metadata": {},
   "source": [
    "### (Optional) Step 4: Export the Data\n",
    "\n",
    "Optionally, store the scraped data in a file or database (to ease sharing the data with others). To do so, export the scraped data to either a JSON file or a MongoDB database."
   ]
  },
  {
   "cell_type": "code",
   "execution_count": 119,
   "metadata": {},
   "outputs": [],
   "source": [
    "# Export data to JSON\n"
   ]
  },
  {
   "cell_type": "code",
   "execution_count": 120,
   "metadata": {},
   "outputs": [],
   "source": [
    "# Export data to MongoDB\n"
   ]
  }
 ],
 "metadata": {
  "kernelspec": {
   "display_name": "base",
   "language": "python",
   "name": "python3"
  },
  "language_info": {
   "codemirror_mode": {
    "name": "ipython",
    "version": 3
   },
   "file_extension": ".py",
   "mimetype": "text/x-python",
   "name": "python",
   "nbconvert_exporter": "python",
   "pygments_lexer": "ipython3",
   "version": "3.9.12"
  },
  "vscode": {
   "interpreter": {
    "hash": "059d6054bc20a14c7fd55fd7cb31bbf5efb0e5e3bf40968536bd0e07cf9beb99"
   }
  }
 },
 "nbformat": 4,
 "nbformat_minor": 4
}
